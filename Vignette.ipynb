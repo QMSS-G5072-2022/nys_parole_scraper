{
 "cells": [
  {
   "cell_type": "markdown",
   "id": "46900344",
   "metadata": {},
   "source": [
    "# Vignette: Using the nys_parole_scraper package\n",
    "\n",
    "This vignette runs through a brief example of the use of the parole_scraper on a random sample of data. \n",
    "\n",
    "First, I import the package and assign the path of my csv file containing my test data (see the ReadMe for detailed information about the csv file format)."
   ]
  },
  {
   "cell_type": "code",
   "execution_count": null,
   "id": "763a9bd2",
   "metadata": {},
   "outputs": [],
   "source": [
    "from nys_parole_scraper import nys_parole scraper\n",
    "\n",
    "path = \"C:/Users/khaye/OneDrive/Documents/Parole_Scraping/DATA_FILES/test_data.csv\""
   ]
  },
  {
   "cell_type": "markdown",
   "id": "ae1643f7",
   "metadata": {},
   "source": [
    "Next, assign the folder in which you would like your output (output will be a csv file containing the scraped parole data and an excel file containing summary statistics - see the ReadMe/Docstrings for more information) to be created. \n"
   ]
  },
  {
   "cell_type": "code",
   "execution_count": null,
   "id": "052692b3",
   "metadata": {},
   "outputs": [],
   "source": [
    "dir1 = \"C:/Users/khaye/OneDrive/Documents/Parole_Scraping\""
   ]
  },
  {
   "cell_type": "markdown",
   "id": "e11133d5",
   "metadata": {},
   "source": [
    "Finally, run the package using the path and dir1 variables as parameters."
   ]
  },
  {
   "cell_type": "code",
   "execution_count": null,
   "id": "3013aeea",
   "metadata": {},
   "outputs": [],
   "source": [
    "nys_parole_scraper.parole_scraper(path, dir1)"
   ]
  },
  {
   "cell_type": "code",
   "execution_count": null,
   "id": "1503f46b",
   "metadata": {},
   "outputs": [],
   "source": []
  },
  {
   "cell_type": "markdown",
   "id": "2dd0b432",
   "metadata": {},
   "source": [
    "The output above shows partial data from the scraped output, and the summary statistics. The data has been exported to my directory as shown: \n",
    "\n",
    "    - Documents\n",
    "        - Parole_Scraping\n",
    "            -Output_YYYYMMdd_HH.MM.SS\n",
    "                - parole_full_output_YYYYMMdd_HH.MM.SS.csv\n",
    "                - summary_statistics_YYYYMMdd_HH.MM.SS.xslx\n",
    "\n",
    "the summary statistics tables are found in individual sheets inthe summary_statistics excel file. The text \"YYYYMMdd_HH.MM.SS\" is a unique date and time key that will be appended to all file names. \n",
    "\n",
    "If you would like this data returned as Pandas DataFrames in addition to be exported to your directory, you can assign two variables to the functioncall, with the first variable being the one which will store the full scraped output, and the second storing a list of summary statistic DataFrames. See below:  "
   ]
  },
  {
   "cell_type": "code",
   "execution_count": null,
   "id": "bd13995a",
   "metadata": {},
   "outputs": [],
   "source": [
    "full_output, sum_stats = nys_parole_scraper.parole_scraper(path, dir1)"
   ]
  },
  {
   "cell_type": "markdown",
   "id": "8e21bd91",
   "metadata": {},
   "source": [
    "Now, the output has been once again exported to my directory as a csv and excel file, but they are also available as python objects, with full_output being the scraped data as a pandas DataFrame and sum_stats being a list of pandas DataFrames that contain summary statistics tables. "
   ]
  },
  {
   "cell_type": "code",
   "execution_count": null,
   "id": "d922dad4",
   "metadata": {},
   "outputs": [],
   "source": [
    "full_output.head()"
   ]
  },
  {
   "cell_type": "code",
   "execution_count": null,
   "id": "4211722c",
   "metadata": {},
   "outputs": [],
   "source": [
    "sum_stats"
   ]
  },
  {
   "cell_type": "markdown",
   "id": "c01b36ca",
   "metadata": {},
   "source": [
    "While it is not the primary use of the nys_parole_scraper package, there is another function available for use on the full_output dataframe: freq_table(), available in the scraper_functions module of the nys_parole_scraper package. This function allows for quick generation of any categorical variables in the output data. \n",
    "\n",
    "Parameters: freq_table(df, column, col_name)\n",
    "- df: the pandas DataFrame containing the scraped parole output. In the example above, this is \"full_output\"\n",
    "- column: a string; the name of the categorical column you would like to create a frequency table for\n",
    "- index_name: a string; what you would like to name the column of categories\n",
    "\n",
    "For example, if I was interested in seeing the frequency of different top charge classes, I could run the code below:"
   ]
  },
  {
   "cell_type": "code",
   "execution_count": null,
   "id": "0feadde1",
   "metadata": {},
   "outputs": [],
   "source": [
    "from nys_parole_scraper import scraper_functions as sf\n",
    "\n",
    "sf.freq_table(full_output, 'Class 1', 'Conviction 1 Classes')"
   ]
  }
 ],
 "metadata": {
  "kernelspec": {
   "display_name": "Python 3 (ipykernel)",
   "language": "python",
   "name": "python3"
  },
  "language_info": {
   "codemirror_mode": {
    "name": "ipython",
    "version": 3
   },
   "file_extension": ".py",
   "mimetype": "text/x-python",
   "name": "python",
   "nbconvert_exporter": "python",
   "pygments_lexer": "ipython3",
   "version": "3.9.7"
  }
 },
 "nbformat": 4,
 "nbformat_minor": 5
}
