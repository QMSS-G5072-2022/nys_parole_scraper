{
 "cells": [
  {
   "cell_type": "markdown",
   "id": "bc160c4e",
   "metadata": {},
   "source": [
    "# Vignette: Using the nys_parole_scraper package\n",
    "\n",
    "This vignette runs through a brief example of the use of the parole_scraper on a random sample of data. \n",
    "\n",
    "First, I import the package and assign the path of my csv file containing my test data (see the ReadMe for detailed information about the csv file format)."
   ]
  },
  {
   "cell_type": "code",
   "execution_count": null,
   "id": "ec6957d4",
   "metadata": {},
   "outputs": [],
   "source": [
    "from nys_parole_scraper import nys_parole scraper\n",
    "\n",
    "path = \"C:/Users/khaye/OneDrive/Documents/Parole_Scraping/DATA_FILES/test_data.csv\""
   ]
  },
  {
   "cell_type": "markdown",
   "id": "d4ae6c20",
   "metadata": {},
   "source": [
    "Next, assign the folder in which you would like your output (output will be a csv file containing the scraped parole data and an excel file containing summary statistics - see the ReadMe/Docstrings for more information) to be created. \n"
   ]
  },
  {
   "cell_type": "code",
   "execution_count": null,
   "id": "55643813",
   "metadata": {},
   "outputs": [],
   "source": [
    "dir1 = \"C:/Users/khaye/OneDrive/Documents/Parole_Scraping\""
   ]
  },
  {
   "cell_type": "markdown",
   "id": "a78a51e1",
   "metadata": {},
   "source": [
    "Finally, run the package using the path and dir1 variables as parameters."
   ]
  },
  {
   "cell_type": "code",
   "execution_count": null,
   "id": "f195a7b7",
   "metadata": {},
   "outputs": [],
   "source": [
    "nys_parole_scraper.parole_scraper(path, dir1)"
   ]
  },
  {
   "cell_type": "markdown",
   "id": "5c16f092",
   "metadata": {},
   "source": [
    "The output above shows partial data from the dcrapedouput, and the summary statistics. The data has been exported to my directory as shown: \n",
    "\n",
    "    - Documents\n",
    "        - Parole_Scraping\n",
    "            -Output_YYYYMMdd_HH.MM.SS\n",
    "                - parole_full_output_YYYYMMdd_HH.MM.SS.csv\n",
    "                - summary_statistics_YYYYMMdd_HH.MM.SS.xslx\n",
    "\n",
    "the summary statistics tables are found in individual sheets inthe summary_statistics excel file. The text \"YYYYMMdd_HH.MM.SS\" is a unique date and time key that will be appended to all file names. \n",
    "\n",
    "If you would like this data returned as Pandas DataFrames in addition to be exported to your directory, you can assign two variables to the functioncall, with the first variable being the one which will store the full scraped output, and the second storing a list of summary statistic DataFrames. See below:  "
   ]
  },
  {
   "cell_type": "code",
   "execution_count": null,
   "id": "e1db4abd",
   "metadata": {},
   "outputs": [],
   "source": [
    "full_output, sum_stats = nys_parole_scraper.parole_scraper(path, dir1)"
   ]
  }
 ],
 "metadata": {
  "kernelspec": {
   "display_name": "Python 3 (ipykernel)",
   "language": "python",
   "name": "python3"
  },
  "language_info": {
   "codemirror_mode": {
    "name": "ipython",
    "version": 3
   },
   "file_extension": ".py",
   "mimetype": "text/x-python",
   "name": "python",
   "nbconvert_exporter": "python",
   "pygments_lexer": "ipython3",
   "version": "3.9.7"
  }
 },
 "nbformat": 4,
 "nbformat_minor": 5
}
